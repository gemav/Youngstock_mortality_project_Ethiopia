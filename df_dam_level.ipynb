{
 "cells": [
  {
   "cell_type": "code",
   "execution_count": 1,
   "metadata": {},
   "outputs": [
    {
     "data": {
      "text/html": [
       "<style>.container { width:100% !important; }</style>"
      ],
      "text/plain": [
       "<IPython.core.display.HTML object>"
      ]
     },
     "metadata": {},
     "output_type": "display_data"
    }
   ],
   "source": [
    "import pandas as pd\n",
    "import numpy as np\n",
    "from matplotlib import pyplot as plt\n",
    "plt.style.use('ggplot')\n",
    "%matplotlib inline\n",
    "import seaborn as sns\n",
    "\n",
    "from IPython.core.display import display, HTML\n",
    "display(HTML(\"<style>.container { width:100% !important; }</style>\"))"
   ]
  },
  {
   "cell_type": "markdown",
   "metadata": {},
   "source": [
    "## Gondar"
   ]
  },
  {
   "cell_type": "code",
   "execution_count": 2,
   "metadata": {},
   "outputs": [],
   "source": [
    "file_path = \"/Users/gemavidal/Box Sync/Vet/Projects and Papers/2020 Ethiopia Pathasure/Gondar Data Analyses/df_trusted_Y1Y2.csv\"\n",
    "df_gondar = pd.read_csv(file_path, index_col = False)"
   ]
  },
  {
   "cell_type": "code",
   "execution_count": 3,
   "metadata": {},
   "outputs": [],
   "source": [
    "df_dam_gondar = df_gondar[['district', 'dam_ageparturition', 'dam_alive', 'dam_bcs1to5', \n",
    "                           'dam_deathwithin2weeksparturition','dam_milkyield_liters', \n",
    "                           'dam_motheringinstinct', 'dam_vaccines_type', \n",
    "                           'dam_vaccines2monthsbeforedelivery', 'parity']]"
   ]
  },
  {
   "cell_type": "code",
   "execution_count": 16,
   "metadata": {},
   "outputs": [],
   "source": [
    "df_dam_gondar = df_dam_gondar.rename(columns = {'dam_ageparturition':'dam_ageparturition_years'})  "
   ]
  },
  {
   "cell_type": "markdown",
   "metadata": {},
   "source": [
    "## Sululta"
   ]
  },
  {
   "cell_type": "code",
   "execution_count": 4,
   "metadata": {},
   "outputs": [],
   "source": [
    "file_path = \"/Users/gemavidal/Box Sync/Young Stock Mortality/Publications in Process/Cleaned Datasets/df_Sululta_PhysEnrollLab_Y2 copy.csv\"\n",
    "df_sululta = pd.read_csv(file_path, index_col = False)\n",
    "\n",
    "df_sululta_i = df_sululta.loc[(df_sululta['in_classmate'] != 'unknown')]"
   ]
  },
  {
   "cell_type": "code",
   "execution_count": 8,
   "metadata": {},
   "outputs": [],
   "source": [
    "df_dam_sululta = df_sululta_i[['district', 'dam_ageparturition_years', 'dam_alive', 'dam_bcs1to5', \n",
    "                               'dam_deathwithin2weeksparturition','dam_milkyield_liters', \n",
    "                               'dam_motheringinstinct', 'dam_vaccines_type', \n",
    "                               'dam_vaccines2monthsbeforedelivery', 'parity']]"
   ]
  },
  {
   "cell_type": "markdown",
   "metadata": {},
   "source": [
    "## Dalocha"
   ]
  },
  {
   "cell_type": "code",
   "execution_count": 10,
   "metadata": {},
   "outputs": [],
   "source": [
    "file_path = \"/Users/gemavidal/Box Sync/Young Stock Mortality/Publications in Process/Cleaned Datasets/df_Dalocha_PhysEnrollLab_Y2 copy.csv\"\n",
    "df_dalocha = pd.read_csv(file_path, index_col = False)\n",
    "\n",
    "df_dalocha_i = df_dalocha.loc[(df_dalocha['trusted'] == 'yes')]"
   ]
  },
  {
   "cell_type": "code",
   "execution_count": 12,
   "metadata": {},
   "outputs": [],
   "source": [
    "df_dam_dalocha = df_dalocha_i[['district', 'dam_ageparturition_years', 'dam_alive', 'dam_bcs1to5', \n",
    "                               'dam_deathwithin2weeksparturition','dam_milkyield_liters', \n",
    "                               'dam_motheringinstinct', 'dam_vaccines_type', \n",
    "                               'dam_vaccines2monthsbeforedelivery', 'parity']]"
   ]
  },
  {
   "cell_type": "markdown",
   "metadata": {},
   "source": [
    "## Awash-Fentale"
   ]
  },
  {
   "cell_type": "code",
   "execution_count": 13,
   "metadata": {},
   "outputs": [],
   "source": [
    "file_path = \"/Users/gemavidal/Box Sync/Young Stock Mortality/Publications in Process/Cleaned Datasets/df_Awash_PhyEnrollLab_Y2.csv\"\n",
    "df_awash = pd.read_csv(file_path, index_col = False)"
   ]
  },
  {
   "cell_type": "code",
   "execution_count": 15,
   "metadata": {},
   "outputs": [],
   "source": [
    "df_dam_awash = df_awash[['district', 'dam_ageparturition', 'dam_alive', 'dam_bcs1to5', \n",
    "                         'dam_deathwithin2weeksparturition','dam_milkyield_liters', \n",
    "                         'dam_motheringinstinct', 'dam_vaccines_type', \n",
    "                         'dam_vaccines2monthsbeforedelivery', 'parity']]"
   ]
  },
  {
   "cell_type": "code",
   "execution_count": 17,
   "metadata": {},
   "outputs": [],
   "source": [
    "df_dam_awash = df_dam_awash.rename(columns = {'dam_ageparturition':'dam_ageparturition_years'})  "
   ]
  },
  {
   "cell_type": "markdown",
   "metadata": {},
   "source": [
    "## Combine DataFrames"
   ]
  },
  {
   "cell_type": "code",
   "execution_count": 18,
   "metadata": {},
   "outputs": [
    {
     "name": "stdout",
     "output_type": "stream",
     "text": [
      "(564, 10)\n",
      "(117, 10)\n",
      "(358, 10)\n",
      "(441, 10)\n"
     ]
    }
   ],
   "source": [
    "dfs = [df_dam_gondar, df_dam_sululta, df_dam_dalocha, df_dam_awash]\n",
    "\n",
    "for i in dfs:\n",
    "    print i.shape"
   ]
  },
  {
   "cell_type": "code",
   "execution_count": 19,
   "metadata": {},
   "outputs": [
    {
     "data": {
      "text/plain": [
       "(1480, 10)"
      ]
     },
     "execution_count": 19,
     "metadata": {},
     "output_type": "execute_result"
    }
   ],
   "source": [
    "df_dam = pd.DataFrame([])\n",
    "\n",
    "for i in dfs:\n",
    "    df_dam = df_dam.append(i, ignore_index = True)\n",
    "    \n",
    "df_dam.shape"
   ]
  },
  {
   "cell_type": "code",
   "execution_count": 20,
   "metadata": {},
   "outputs": [],
   "source": [
    "df_dam.to_csv('/Users/gemavidal/Box Sync/Vet/Projects and Papers/2020 YSM USAID Final Report/df_dam_all.csv')\n",
    "\n"
   ]
  },
  {
   "cell_type": "code",
   "execution_count": 23,
   "metadata": {},
   "outputs": [],
   "source": [
    "# Cleaning the data after append\n",
    "\n",
    "columns = ['dam_ageparturition_years', 'dam_alive', 'dam_bcs1to5', 'dam_milkyield_liters', 'dam_motheringinstinct', \n",
    "           'dam_vaccines_type', 'dam_vaccines2monthsbeforedelivery', 'parity']\n",
    "\n",
    "for i in columns:\n",
    "    df_dam[i].replace({'unknown':np.nan,\n",
    "                       'unkown':np.nan,\n",
    "                       'NR':np.nan,\n",
    "                       '0 (only for calf)':np.nan,\n",
    "                       'do not know':np.nan}, inplace = True)"
   ]
  },
  {
   "cell_type": "code",
   "execution_count": 26,
   "metadata": {},
   "outputs": [],
   "source": [
    "columns = ['dam_motheringinstinct']\n",
    "\n",
    "for i in columns:\n",
    "    df_dam[i].replace({'yes':'good',\n",
    "                       'no':'poor'}, inplace = True)"
   ]
  },
  {
   "cell_type": "code",
   "execution_count": 30,
   "metadata": {},
   "outputs": [],
   "source": [
    "# Change the continous variables to floats\n",
    "\n",
    "columns = ['dam_ageparturition_years', 'dam_bcs1to5', 'dam_milkyield_liters', 'parity']\n",
    "\n",
    "for i in columns:\n",
    "    df_dam[i] = df_dam[i].astype(float)"
   ]
  },
  {
   "cell_type": "code",
   "execution_count": 32,
   "metadata": {},
   "outputs": [],
   "source": [
    "# fix 'parity'\n",
    "columns = ['parity']\n",
    "for i in columns:\n",
    "    df_dam[i].replace({0.0:1}, inplace = True)"
   ]
  },
  {
   "cell_type": "code",
   "execution_count": 36,
   "metadata": {
    "scrolled": true
   },
   "outputs": [
    {
     "name": "stdout",
     "output_type": "stream",
     "text": [
      "Gondar     564\n",
      "Dalocha    358\n",
      "Awash      287\n",
      "Amibara    154\n",
      "Sululta    117\n",
      "Name: district, dtype: int64\n",
      "7.0     199\n",
      "8.0     185\n",
      "4.0     161\n",
      "6.0     159\n",
      "5.0     155\n",
      "9.0      87\n",
      "10.0     61\n",
      "3.0      40\n",
      "12.0     23\n",
      "11.0     13\n",
      "13.0     10\n",
      "2.0       8\n",
      "14.0      6\n",
      "15.0      5\n",
      "16.0      3\n",
      "1.0       2\n",
      "20.0      1\n",
      "Name: dam_ageparturition_years, dtype: int64\n",
      "yes    1030\n",
      "no       13\n",
      "Name: dam_alive, dtype: int64\n",
      "3.0    590\n",
      "2.0    329\n",
      "4.0    145\n",
      "1.0     61\n",
      "5.0      4\n",
      "Name: dam_bcs1to5, dtype: int64\n",
      "no     278\n",
      "yes      2\n",
      "Name: dam_deathwithin2weeksparturition, dtype: int64\n",
      "1.00     176\n",
      "2.00     110\n",
      "1.50      91\n",
      "0.50      77\n",
      "8.00      60\n",
      "0.75      54\n",
      "6.00      54\n",
      "10.00     46\n",
      "3.00      43\n",
      "4.00      42\n",
      "7.00      26\n",
      "1.75      22\n",
      "5.00      21\n",
      "12.00     21\n",
      "2.50      17\n",
      "9.00      15\n",
      "0.00      14\n",
      "20.00     13\n",
      "15.00     12\n",
      "0.25      11\n",
      "18.00     10\n",
      "14.00      9\n",
      "0.20       8\n",
      "16.00      7\n",
      "1.25       7\n",
      "1.30       6\n",
      "0.30       6\n",
      "3.50       4\n",
      "0.10       3\n",
      "1.20       2\n",
      "1.80       2\n",
      "13.00      2\n",
      "1.15       1\n",
      "0.70       1\n",
      "22.00      1\n",
      "25.00      1\n",
      "0.80       1\n",
      "11.00      1\n",
      "23.00      1\n",
      "2.75       1\n",
      "5.50       1\n",
      "Name: dam_milkyield_liters, dtype: int64\n",
      "good    1078\n",
      "poor      39\n",
      "Name: dam_motheringinstinct, dtype: int64\n",
      "anthrax vaccine    159\n",
      "black leg            2\n",
      "pasterullosis        1\n",
      "pasturella           1\n",
      "Name: dam_vaccines_type, dtype: int64\n",
      "no     480\n",
      "yes    161\n",
      "Name: dam_vaccines2monthsbeforedelivery, dtype: int64\n",
      "2.0     305\n",
      "3.0     304\n",
      "1.0     239\n",
      "4.0     187\n",
      "5.0      75\n",
      "6.0      43\n",
      "7.0      15\n",
      "8.0      15\n",
      "9.0      13\n",
      "10.0      6\n",
      "11.0      2\n",
      "12.0      2\n",
      "14.0      1\n",
      "15.0      1\n",
      "Name: parity, dtype: int64\n"
     ]
    }
   ],
   "source": [
    "for i in df_dam:\n",
    "    print (df_dam[i].value_counts())"
   ]
  },
  {
   "cell_type": "code",
   "execution_count": 35,
   "metadata": {},
   "outputs": [],
   "source": [
    "# fix 'dam_ageparturition_years'\n",
    "columns = ['dam_ageparturition_years']\n",
    "for i in columns:\n",
    "    df_dam[i].replace({3.5 : 3,\n",
    "                       5.5 : 5,\n",
    "                       2.5 : 2,\n",
    "                       2.7 : 2,\n",
    "                       9.5 : 9,\n",
    "                       4.8 : 4,\n",
    "                       2.8 : 2,\n",
    "                       2.9 : 2}, inplace = True)"
   ]
  },
  {
   "cell_type": "code",
   "execution_count": 37,
   "metadata": {},
   "outputs": [],
   "source": [
    "# Create a column for the production system\n",
    "def prod_system (row):\n",
    "    if (row['district'] == 'Gondar'):\n",
    "        return 'Peri-urban'\n",
    "    if (row['district'] == 'Sululta'):\n",
    "        return 'Peri-urban'\n",
    "    if (row['district'] == 'Dalocha'):\n",
    "        return 'Mixed-crop'\n",
    "    if (row['district'] == 'Awash'):\n",
    "        return 'Pastoral'\n",
    "    if (row['district'] == 'Amibara'):\n",
    "        return 'Pastoral'"
   ]
  },
  {
   "cell_type": "code",
   "execution_count": 38,
   "metadata": {},
   "outputs": [],
   "source": [
    "df_dam['prod_system'] = df_dam.apply(lambda row: prod_system(row), axis = 1)"
   ]
  },
  {
   "cell_type": "code",
   "execution_count": 39,
   "metadata": {},
   "outputs": [],
   "source": [
    "df_dam.to_csv('/Users/gemavidal/Box Sync/Vet/Projects and Papers/2020 YSM USAID Final Report/df_dam_cleaned.csv')\n"
   ]
  },
  {
   "cell_type": "code",
   "execution_count": null,
   "metadata": {},
   "outputs": [],
   "source": []
  },
  {
   "cell_type": "code",
   "execution_count": null,
   "metadata": {},
   "outputs": [],
   "source": []
  },
  {
   "cell_type": "code",
   "execution_count": null,
   "metadata": {},
   "outputs": [],
   "source": []
  },
  {
   "cell_type": "code",
   "execution_count": null,
   "metadata": {},
   "outputs": [],
   "source": []
  },
  {
   "cell_type": "code",
   "execution_count": null,
   "metadata": {},
   "outputs": [],
   "source": []
  },
  {
   "cell_type": "code",
   "execution_count": null,
   "metadata": {},
   "outputs": [],
   "source": []
  }
 ],
 "metadata": {
  "kernelspec": {
   "display_name": "p36workshop",
   "language": "python",
   "name": "p36workshop"
  },
  "language_info": {
   "codemirror_mode": {
    "name": "ipython",
    "version": 2
   },
   "file_extension": ".py",
   "mimetype": "text/x-python",
   "name": "python",
   "nbconvert_exporter": "python",
   "pygments_lexer": "ipython2",
   "version": "2.7.3"
  }
 },
 "nbformat": 4,
 "nbformat_minor": 2
}
