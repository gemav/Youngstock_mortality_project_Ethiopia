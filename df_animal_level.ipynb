{
 "cells": [
  {
   "cell_type": "code",
   "execution_count": 1,
   "metadata": {},
   "outputs": [
    {
     "data": {
      "text/html": [
       "<style>.container { width:100% !important; }</style>"
      ],
      "text/plain": [
       "<IPython.core.display.HTML object>"
      ]
     },
     "metadata": {},
     "output_type": "display_data"
    }
   ],
   "source": [
    "import pandas as pd\n",
    "import numpy as np\n",
    "from matplotlib import pyplot as plt\n",
    "plt.style.use('ggplot')\n",
    "%matplotlib inline\n",
    "import seaborn as sns\n",
    "\n",
    "from IPython.core.display import display, HTML\n",
    "display(HTML(\"<style>.container { width:100% !important; }</style>\"))"
   ]
  },
  {
   "cell_type": "markdown",
   "metadata": {},
   "source": [
    "## Gondar"
   ]
  },
  {
   "cell_type": "code",
   "execution_count": 2,
   "metadata": {},
   "outputs": [],
   "source": [
    "file_path = \"/Users/gemavidal/Box Sync/Vet/Projects and Papers/2020 Ethiopia Pathasure/Gondar Data Analyses/df_trusted_Y1Y2.csv\"\n",
    "df_gondar = pd.read_csv(file_path, index_col = False)"
   ]
  },
  {
   "cell_type": "code",
   "execution_count": 4,
   "metadata": {},
   "outputs": [],
   "source": [
    "df_animal_gondar = df_gondar[['district', 'year', 'BCS', 'age', 'age_units',\n",
    "                              'birth_witness', 'birthlocation', 'breed', 'breed_name',\n",
    "                              'calf_bcs', 'sex', 'sire', 'timeofbirth', 'typedelivery',\n",
    "                              'weaned', 'weaned_agemonths']]"
   ]
  },
  {
   "cell_type": "markdown",
   "metadata": {},
   "source": [
    "## Sululta"
   ]
  },
  {
   "cell_type": "code",
   "execution_count": 6,
   "metadata": {},
   "outputs": [],
   "source": [
    "file_path = \"/Users/gemavidal/Box Sync/Young Stock Mortality/Publications in Process/Cleaned Datasets/df_Sululta_PhysEnrollLab_Y2 copy.csv\"\n",
    "df_sululta = pd.read_csv(file_path, index_col = False)"
   ]
  },
  {
   "cell_type": "code",
   "execution_count": 7,
   "metadata": {},
   "outputs": [],
   "source": [
    "df_sululta_i = df_sululta.loc[(df_sululta['in_classmate'] != 'unknown')]"
   ]
  },
  {
   "cell_type": "code",
   "execution_count": 8,
   "metadata": {},
   "outputs": [],
   "source": [
    "df_sululta_i = df_sululta_i.rename(columns = {'result_interpretation_BVDV':'BVDV_result',\n",
    "                                              'result_strogly':'result_strongly',\n",
    "                                              'result_paraphistom':'result_paramphistom',\n",
    "                                              'age_month':'age'})"
   ]
  },
  {
   "cell_type": "code",
   "execution_count": 12,
   "metadata": {},
   "outputs": [],
   "source": [
    "df_animal_sululta = df_sululta_i[['district', 'BCS', 'age', 'age_units',\n",
    "                                  'birth_witness', 'birthlocation', 'breed', 'breed_name',\n",
    "                                  'sex', 'sire', 'timeofbirth', 'typedelivery',\n",
    "                                  'weaned', 'weaned_agemonths']]"
   ]
  },
  {
   "cell_type": "markdown",
   "metadata": {},
   "source": [
    "## Dalocha"
   ]
  },
  {
   "cell_type": "code",
   "execution_count": 14,
   "metadata": {},
   "outputs": [],
   "source": [
    "file_path = \"/Users/gemavidal/Box Sync/Young Stock Mortality/Publications in Process/Cleaned Datasets/df_Dalocha_PhysEnrollLab_Y2 copy.csv\"\n",
    "df_dalocha = pd.read_csv(file_path, index_col = False)"
   ]
  },
  {
   "cell_type": "code",
   "execution_count": 15,
   "metadata": {},
   "outputs": [],
   "source": [
    "df_dalocha_i = df_dalocha.loc[(df_dalocha['trusted'] == 'yes')]"
   ]
  },
  {
   "cell_type": "code",
   "execution_count": 17,
   "metadata": {},
   "outputs": [],
   "source": [
    "df_animal_dalocha = df_dalocha_i[['district', 'BCS', 'age', 'age_units',\n",
    "                              'birth_witness', 'birthlocation', 'breed', 'breed_name',\n",
    "                              'sex', 'sire', 'timeofbirth', 'typedelivery',\n",
    "                              'weaned', 'weaned_agemonths']]"
   ]
  },
  {
   "cell_type": "markdown",
   "metadata": {},
   "source": [
    "## Awash-Fentale"
   ]
  },
  {
   "cell_type": "code",
   "execution_count": 18,
   "metadata": {},
   "outputs": [],
   "source": [
    "file_path = \"/Users/gemavidal/Box Sync/Young Stock Mortality/Publications in Process/Cleaned Datasets/df_Awash_PhyEnrollLab_Y2.csv\"\n",
    "df_awash = pd.read_csv(file_path, index_col = False)"
   ]
  },
  {
   "cell_type": "code",
   "execution_count": 22,
   "metadata": {},
   "outputs": [],
   "source": [
    "df_awash = df_awash.rename(columns = {'breed_me':'breed_name'})    "
   ]
  },
  {
   "cell_type": "code",
   "execution_count": 23,
   "metadata": {},
   "outputs": [],
   "source": [
    "df_animal_awash = df_awash[['district', 'BCS', 'age', 'age_units',\n",
    "                              'birth_witness', 'birthlocation', 'breed', 'breed_name',\n",
    "                              'sex', 'sire', 'timeofbirth', 'typedelivery',\n",
    "                              'weaned', 'weaned_agemonths']]"
   ]
  },
  {
   "cell_type": "markdown",
   "metadata": {},
   "source": [
    "## Combine dataframes"
   ]
  },
  {
   "cell_type": "code",
   "execution_count": 24,
   "metadata": {},
   "outputs": [
    {
     "name": "stdout",
     "output_type": "stream",
     "text": [
      "(564, 16)\n",
      "(117, 14)\n",
      "(358, 14)\n",
      "(441, 14)\n"
     ]
    }
   ],
   "source": [
    "dfs = [df_animal_gondar, df_animal_sululta, df_animal_dalocha, df_animal_awash]\n",
    "\n",
    "for i in dfs:\n",
    "    print i.shape"
   ]
  },
  {
   "cell_type": "code",
   "execution_count": 32,
   "metadata": {},
   "outputs": [
    {
     "data": {
      "text/plain": [
       "(1480, 16)"
      ]
     },
     "execution_count": 32,
     "metadata": {},
     "output_type": "execute_result"
    }
   ],
   "source": [
    "df_animal = pd.DataFrame([])\n",
    "\n",
    "for i in dfs:\n",
    "    df_animal = df_animal.append(i, ignore_index = True)\n",
    "    \n",
    "df_animal.shape"
   ]
  },
  {
   "cell_type": "code",
   "execution_count": 26,
   "metadata": {},
   "outputs": [],
   "source": [
    "df_animal.to_csv('/Users/gemavidal/Box Sync/Vet/Projects and Papers/2020 YSM USAID Final Report/df_animal_all.csv')\n",
    "\n"
   ]
  },
  {
   "cell_type": "code",
   "execution_count": 36,
   "metadata": {
    "scrolled": true
   },
   "outputs": [
    {
     "name": "stdout",
     "output_type": "stream",
     "text": [
      "3    380\n",
      "2    237\n",
      "2    181\n",
      "1    115\n",
      "4     89\n",
      "1     79\n",
      "3     63\n",
      "4     13\n",
      "5      1\n",
      "Name: BCS, dtype: int64\n",
      "6.00     199\n",
      "3.00     195\n",
      "2.00     172\n",
      "4.00     170\n",
      "5.00     145\n",
      "1.00     137\n",
      "7.00     102\n",
      "8.00      69\n",
      "12.00     52\n",
      "9.00      26\n",
      "1.50      20\n",
      "20.00     20\n",
      "15.00     20\n",
      "0.50      17\n",
      "10.00     16\n",
      "16.00     11\n",
      "18.00      9\n",
      "3.50       9\n",
      "5.50       9\n",
      "4.50       9\n",
      "24.00      8\n",
      "14.00      7\n",
      "21.00      6\n",
      "2.50       6\n",
      "11.00      5\n",
      "13.00      5\n",
      "19.00      4\n",
      "0.25       4\n",
      "0.30       3\n",
      "2.80       1\n",
      "0.67       1\n",
      "0.03       1\n",
      "1.75       1\n",
      "28.00      1\n",
      "2.75       1\n",
      "17.00      1\n",
      "0.10       1\n",
      "5.30       1\n",
      "Name: age, dtype: int64\n",
      "months    895\n",
      "weeks     314\n",
      "days      256\n",
      "Name: age_units, dtype: int64\n",
      "yes    764\n",
      "no     118\n",
      "Name: birth_witness, dtype: int64\n",
      "In barn          651\n",
      "Same cow barn    236\n",
      "Outside          224\n",
      "Calving pen       47\n",
      "Name: birthlocation, dtype: int64\n",
      "Local                 843\n",
      "Improved/Crossbred    632\n",
      "Name: breed, dtype: int64\n",
      "Afar        423\n",
      "Holstein    261\n",
      "Fogera       33\n",
      "Name: breed_name, dtype: int64\n",
      "Medium    163\n",
      "Poor       63\n",
      "Good       57\n",
      "Name: calf_bcs, dtype: int64\n",
      "Gondar     564\n",
      "Dalocha    358\n",
      "Awash      287\n",
      "Amibara    154\n",
      "Sululta    117\n",
      "Name: district, dtype: int64\n",
      "Male      740\n",
      "Female    726\n",
      "Name: sex, dtype: int64\n",
      "Live Cover                 967\n",
      "Artificial Insemination    224\n",
      "Name: sire, dtype: int64\n",
      "day      682\n",
      "night    474\n",
      "Name: timeofbirth, dtype: int64\n",
      "normal               1003\n",
      "assisted/dystocia     173\n",
      "Name: typedelivery, dtype: int64\n",
      "no     1394\n",
      "yes      78\n",
      "Name: weaned, dtype: int64\n",
      "starting from birth    1\n",
      "12.0                   1\n",
      "Name: weaned_agemonths, dtype: int64\n",
      "2.0    283\n",
      "1.0    281\n",
      "Name: year, dtype: int64\n"
     ]
    }
   ],
   "source": [
    "for i in df_animal:\n",
    "    print (df_animal[i].value_counts())"
   ]
  },
  {
   "cell_type": "code",
   "execution_count": 34,
   "metadata": {},
   "outputs": [],
   "source": [
    "columns = ['BCS', 'birth_witness', 'birthlocation', 'sire', 'timeofbirth', 'typedelivery', 'weaned_agemonths']\n",
    "\n",
    "for i in columns:\n",
    "    df_animal[i].replace({'unknown':np.nan,\n",
    "                          'NR':np.nan,\n",
    "                          'do not know':np.nan}, inplace = True)"
   ]
  },
  {
   "cell_type": "code",
   "execution_count": 35,
   "metadata": {},
   "outputs": [],
   "source": [
    "columns = ['BCS', 'birth_witness', 'birthlocation', 'breed', 'breed_name', 'sex', 'sire', 'timeofbirth', 'typedelivery']\n",
    "\n",
    "for i in columns:\n",
    "    df_animal[i].replace({1.0:1,\n",
    "                          2.0:2,\n",
    "                          3.0:3,\n",
    "                          4.0:4,\n",
    "                          5.0:5,\n",
    "                          'Yes':'yes',\n",
    "                          'in barn':'In barn',\n",
    "                          'outside':'Outside',\n",
    "                          'Cross':'Improved/Crossbred',\n",
    "                          'cross':'Improved/Crossbred',\n",
    "                          'local':'Local',\n",
    "                          'exotic':'Improved/Crossbred',\n",
    "                          'borena':'Fogera',\n",
    "                          'female':'Female',\n",
    "                          'male':'Male',\n",
    "                          'Male ':'Male',\n",
    "                          'male ':'male',\n",
    "                          'live cover':'Live Cover',\n",
    "                          'live Cover':'Live Cover',\n",
    "                          'Live cover':'Live Cover',\n",
    "                          'AI': 'Artificial Insemination',\n",
    "                          'Day':'day',\n",
    "                          'Night':'night',\n",
    "                          'Night ':'night',\n",
    "                          'Normal':'normal',\n",
    "                          'Assisted':'assisted/dystocia',\n",
    "                          'assisted':'assisted/dystocia',\n",
    "                          'assited':'assisted/dystocia',\n",
    "                          'Dystocia':'assisted/dystocia'}, inplace = True)"
   ]
  },
  {
   "cell_type": "code",
   "execution_count": 37,
   "metadata": {},
   "outputs": [],
   "source": [
    "# And create a column for the production system\n",
    "\n",
    "def prod_system (row):\n",
    "    if (row['district'] == 'Gondar'):\n",
    "        return 'Peri-urban'\n",
    "    if (row['district'] == 'Sululta'):\n",
    "        return 'Peri-urban'\n",
    "    if (row['district'] == 'Dalocha'):\n",
    "        return 'Mixed-crop'\n",
    "    if (row['district'] == 'Awash'):\n",
    "        return 'Pastoral'\n",
    "    if (row['district'] == 'Amibara'):\n",
    "        return 'Pastoral'"
   ]
  },
  {
   "cell_type": "code",
   "execution_count": 38,
   "metadata": {},
   "outputs": [],
   "source": [
    "df_animal['prod_system'] = df_animal.apply(lambda row: prod_system(row), axis = 1)"
   ]
  },
  {
   "cell_type": "code",
   "execution_count": 39,
   "metadata": {},
   "outputs": [],
   "source": [
    "# Change all the ages into weeks as units\n",
    "def label_ageweeks (row):\n",
    "    if (row['age_units'] == 'weeks'):\n",
    "        return row['age']\n",
    "    if (row['age_units'] == 'months'):\n",
    "        return row['age'] * 4\n",
    "    if (row['age_units'] == 'days' and row['age'] >= 5.0 and row['age'] <=9):\n",
    "        return 1\n",
    "    if (row['age_units'] == 'days' and row['age'] < 5.0):\n",
    "        return 0.5\n",
    "    if (row['age_units'] == 'days' and row['age'] > 9.0):\n",
    "        return row['age'] / 7 #because all the ages given the condition fit in there"
   ]
  },
  {
   "cell_type": "code",
   "execution_count": 40,
   "metadata": {},
   "outputs": [],
   "source": [
    "df_animal['age_weeks'] = df_animal.apply(lambda row: label_ageweeks(row), axis = 1)"
   ]
  },
  {
   "cell_type": "code",
   "execution_count": 41,
   "metadata": {},
   "outputs": [],
   "source": [
    "df_animal.to_csv('/Users/gemavidal/Box Sync/Vet/Projects and Papers/2020 YSM USAID Final Report/df_animal_cleaned.csv')\n",
    "\n"
   ]
  },
  {
   "cell_type": "code",
   "execution_count": null,
   "metadata": {},
   "outputs": [],
   "source": []
  }
 ],
 "metadata": {
  "kernelspec": {
   "display_name": "p36workshop",
   "language": "python",
   "name": "p36workshop"
  },
  "language_info": {
   "codemirror_mode": {
    "name": "ipython",
    "version": 2
   },
   "file_extension": ".py",
   "mimetype": "text/x-python",
   "name": "python",
   "nbconvert_exporter": "python",
   "pygments_lexer": "ipython2",
   "version": "2.7.3"
  }
 },
 "nbformat": 4,
 "nbformat_minor": 2
}
